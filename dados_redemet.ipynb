{
  "cells": [
    {
      "cell_type": "markdown",
      "metadata": {
        "id": "view-in-github",
        "colab_type": "text"
      },
      "source": [
        "<a href=\"https://colab.research.google.com/github/leonardo-fontana/dados-redemet/blob/main/dados_redemet.ipynb\" target=\"_parent\"><img src=\"https://colab.research.google.com/assets/colab-badge.svg\" alt=\"Open In Colab\"/></a>"
      ]
    },
    {
      "cell_type": "code",
      "execution_count": null,
      "metadata": {
        "id": "BP3Wqjz4h4gr"
      },
      "outputs": [],
      "source": [
        "import requests\n",
        "import json\n",
        "from datetime import datetime\n",
        "import csv\n",
        "from google.colab import files"
      ]
    },
    {
      "cell_type": "code",
      "source": [
        "class dados:\n",
        "  def __init__(self, ano, mes, dia, hora, dir_vento, velocidade):\n",
        "    self.ano = ano\n",
        "    self.mes = mes\n",
        "    self.dia = dia\n",
        "    self.hora = hora\n",
        "    self.dir_vento = dir_vento\n",
        "    self.velocidade = velocidade\n",
        "\n",
        "dados_to_csv = []\n"
      ],
      "metadata": {
        "id": "f8d4BbJxzVG6"
      },
      "execution_count": null,
      "outputs": []
    },
    {
      "cell_type": "code",
      "execution_count": null,
      "metadata": {
        "id": "I5h07ebLlLnb"
      },
      "outputs": [],
      "source": [
        "data_inicio = \"2021010100\"\n",
        "data_fim = \"2021123123\"\n",
        "api_key = \"chaveDaApiAqui\"\n",
        "page=\"1\"\n",
        "total_pages = 0;"
      ]
    },
    {
      "cell_type": "code",
      "source": [
        "url = \"https://api-redemet.decea.mil.br/mensagens/metar/SBSN?api_key={}&data_ini={}&data_fim={}&horas=24&page={}\".format(api_key, data_inicio, data_fim, page)\n",
        "response_json = requests.get(url).json()\n",
        "total_pages = response_json[\"data\"][\"last_page\"]\n"
      ],
      "metadata": {
        "id": "F9P101GtD6kN"
      },
      "execution_count": null,
      "outputs": []
    },
    {
      "cell_type": "code",
      "execution_count": null,
      "metadata": {
        "id": "0uI3viphlcl2",
        "colab": {
          "base_uri": "https://localhost:8080/"
        },
        "outputId": "c0b693cb-8c42-407c-d9ac-0b649e082964"
      },
      "outputs": [
        {
          "output_type": "stream",
          "name": "stdout",
          "text": [
            "Página 1 de 60\n",
            "Página 2 de 60\n",
            "Página 3 de 60\n",
            "Página 4 de 60\n",
            "Página 5 de 60\n",
            "Página 6 de 60\n",
            "Página 7 de 60\n",
            "Página 8 de 60\n",
            "Página 9 de 60\n",
            "Página 10 de 60\n",
            "Página 11 de 60\n",
            "Página 12 de 60\n",
            "Página 13 de 60\n",
            "Página 14 de 60\n",
            "Página 15 de 60\n",
            "Página 16 de 60\n",
            "Página 17 de 60\n",
            "Página 18 de 60\n",
            "Página 19 de 60\n",
            "Página 20 de 60\n",
            "Página 21 de 60\n",
            "Página 22 de 60\n",
            "Página 23 de 60\n",
            "Página 24 de 60\n",
            "Página 25 de 60\n",
            "Página 26 de 60\n",
            "Página 27 de 60\n",
            "Página 28 de 60\n",
            "Página 29 de 60\n",
            "Página 30 de 60\n",
            "Página 31 de 60\n",
            "Página 32 de 60\n",
            "Página 33 de 60\n",
            "Página 34 de 60\n",
            "Página 35 de 60\n",
            "Página 36 de 60\n",
            "Página 37 de 60\n",
            "Página 38 de 60\n",
            "Página 39 de 60\n",
            "Página 40 de 60\n",
            "Página 41 de 60\n",
            "Página 42 de 60\n",
            "Página 43 de 60\n",
            "Página 44 de 60\n",
            "Página 45 de 60\n",
            "Página 46 de 60\n",
            "Página 47 de 60\n",
            "Página 48 de 60\n",
            "Página 49 de 60\n",
            "Página 50 de 60\n",
            "Página 51 de 60\n",
            "Página 52 de 60\n",
            "Página 53 de 60\n",
            "Página 54 de 60\n",
            "Página 55 de 60\n",
            "Página 56 de 60\n",
            "Página 57 de 60\n",
            "Página 58 de 60\n",
            "Página 59 de 60\n",
            "Página 60 de 60\n"
          ]
        }
      ],
      "source": [
        "for i in range(1,total_pages+1):\n",
        "  print(\"Página {} de {}\".format(i, total_pages))\n",
        "  page = i\n",
        "  url = \"https://api-redemet.decea.mil.br/mensagens/metar/SBSN?api_key={}&data_ini={}&data_fim={}&horas=24&page={}\".format(api_key, data_inicio, data_fim, page)\n",
        "\n",
        "  response = requests.get(url)\n",
        "  response_json = response.json()\n",
        "\n",
        "  data = response_json[\"data\"][\"data\"] .bn                     ]]~ppçpl;  for j in data:\n",
        "    dt = datetime.strptime(j['validade_inicial'], '%Y-%m-%d %H:%M:%S')\n",
        "    key_position = 1;\n",
        "\n",
        "    validade_inicial = j['validade_inicial']\n",
        "    mensagem = j[\"mens\"].split(\" \")\n",
        "\n",
        "    if(mensagem[1] == \"COR\"):\n",
        "      key_position = 2;\n",
        "\n",
        "    dir_vento = mensagem[key_position+2][0:3]\n",
        "    velocidade = mensagem[key_position+2][3:5]\n",
        "\n",
        "    if(velocidade == \"//\"):\n",
        "      velocidade = -999\n",
        "    else :\n",
        "      velocidade = round(int(velocidade))\n",
        "\n",
        "    if(dir_vento == \"///\"):\n",
        "      dir_vento = -999\n",
        "\n",
        "\n",
        "    dados_to_csv.append(dados(dt.year,dt.month,dt.day, mensagem[key_position+1][2:4], dir_vento,velocidade))"
      ]
    },
    {
      "cell_type": "code",
      "source": [
        "#try:\n",
        "with open('dados.csv', 'w', newline='') as f:\n",
        "  writer = csv.writer(f)\n",
        "  for dado in  dados_to_csv:\n",
        "    writer.writerow([dado.ano, dado.mes, dado.dia, dado.hora, dado.dir_vento, dado.velocidade])\n",
        "#except BaseException as e:\n",
        "   # print('BaseException:', filename)\n",
        "#else:\n",
        "    #print('Data has been loaded successfully !')"
      ],
      "metadata": {
        "id": "ViUFlJ9I8lnk"
      },
      "execution_count": null,
      "outputs": []
    },
    {
      "cell_type": "code",
      "source": [
        "files.download('dados.csv')"
      ],
      "metadata": {
        "colab": {
          "base_uri": "https://localhost:8080/",
          "height": 17
        },
        "id": "xAiMauo20XTa",
        "outputId": "fef2f564-974f-41ae-c1e5-6c32431fc969"
      },
      "execution_count": null,
      "outputs": [
        {
          "output_type": "display_data",
          "data": {
            "text/plain": [
              "<IPython.core.display.Javascript object>"
            ],
            "application/javascript": [
              "\n",
              "    async function download(id, filename, size) {\n",
              "      if (!google.colab.kernel.accessAllowed) {\n",
              "        return;\n",
              "      }\n",
              "      const div = document.createElement('div');\n",
              "      const label = document.createElement('label');\n",
              "      label.textContent = `Downloading \"${filename}\": `;\n",
              "      div.appendChild(label);\n",
              "      const progress = document.createElement('progress');\n",
              "      progress.max = size;\n",
              "      div.appendChild(progress);\n",
              "      document.body.appendChild(div);\n",
              "\n",
              "      const buffers = [];\n",
              "      let downloaded = 0;\n",
              "\n",
              "      const channel = await google.colab.kernel.comms.open(id);\n",
              "      // Send a message to notify the kernel that we're ready.\n",
              "      channel.send({})\n",
              "\n",
              "      for await (const message of channel.messages) {\n",
              "        // Send a message to notify the kernel that we're ready.\n",
              "        channel.send({})\n",
              "        if (message.buffers) {\n",
              "          for (const buffer of message.buffers) {\n",
              "            buffers.push(buffer);\n",
              "            downloaded += buffer.byteLength;\n",
              "            progress.value = downloaded;\n",
              "          }\n",
              "        }\n",
              "      }\n",
              "      const blob = new Blob(buffers, {type: 'application/binary'});\n",
              "      const a = document.createElement('a');\n",
              "      a.href = window.URL.createObjectURL(blob);\n",
              "      a.download = filename;\n",
              "      div.appendChild(a);\n",
              "      a.click();\n",
              "      div.remove();\n",
              "    }\n",
              "  "
            ]
          },
          "metadata": {}
        },
        {
          "output_type": "display_data",
          "data": {
            "text/plain": [
              "<IPython.core.display.Javascript object>"
            ],
            "application/javascript": [
              "download(\"download_abe0ac5c-d253-4e39-a73d-34ebbdf325c1\", \"dados.csv\", 177995)"
            ]
          },
          "metadata": {}
        }
      ]
    }
  ],
  "metadata": {
    "colab": {
      "provenance": [],
      "authorship_tag": "ABX9TyP4ZksWAeMHPkXzDbJ9QpqR",
      "include_colab_link": true
    },
    "kernelspec": {
      "display_name": "Python 3",
      "name": "python3"
    },
    "language_info": {
      "name": "python"
    }
  },
  "nbformat": 4,
  "nbformat_minor": 0
}